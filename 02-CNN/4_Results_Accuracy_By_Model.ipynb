{
 "cells": [
  {
   "cell_type": "code",
   "execution_count": 3,
   "id": "impressive-divide",
   "metadata": {},
   "outputs": [],
   "source": [
    "\n",
    "from sklearn.metrics import classification_report, confusion_matrix, roc_auc_score\n",
    "import keras\n",
    "import tensorflow as tf\n",
    "from keras.models import Sequential\n",
    "from keras.layers import Dense, Dropout, Activation, Conv2D, MaxPool2D, Flatten\n",
    "from keras import optimizers\n",
    "from keras import losses\n",
    "from keras.utils import plot_model\n",
    "from tensorflow.keras.preprocessing.image import ImageDataGenerator\n",
    "import time, os, fnmatch, shutil\n",
    "import numpy as np"
   ]
  },
  {
   "cell_type": "code",
   "execution_count": 7,
   "id": "heavy-nelson",
   "metadata": {},
   "outputs": [
    {
     "name": "stdout",
     "output_type": "stream",
     "text": [
      "Found 754 images belonging to 2 classes.\n"
     ]
    },
    {
     "data": {
      "text/plain": [
       "754"
      ]
     },
     "execution_count": 7,
     "metadata": {},
     "output_type": "execute_result"
    }
   ],
   "source": [
    "cmmd_dir = \"F:/uni/UT/Y-Y/\"\n",
    "\n",
    "\n",
    "test_datagen = ImageDataGenerator(\n",
    "    rescale=1./255,\n",
    "    horizontal_flip=True)\n",
    "\n",
    "test_generator = test_datagen.flow_from_directory(\n",
    "        cmmd_dir+\"cmmd_data/PNG/TEST/\",\n",
    "        target_size=(256, 256),\n",
    "        color_mode=\"grayscale\",\n",
    "        batch_size=1,\n",
    "        shuffle=False,\n",
    "        class_mode='binary',\n",
    "        seed=14)\n",
    "\n",
    "filenames = test_generator.filenames\n",
    "nb_samples = len(filenames)\n",
    "nb_samples"
   ]
  },
  {
   "cell_type": "code",
   "execution_count": 9,
   "id": "accepting-racing",
   "metadata": {},
   "outputs": [],
   "source": [
    "def test_model(model):\n",
    "    \n",
    "    predictions = model.predict(test_generator)\n",
    "    class_one = predictions > 0.5\n",
    "    acc = np.mean(class_one == test_generator.classes)\n",
    "    print(\"Accuracy: \"+str(acc))\n",
    "    y_true = test_generator.classes\n",
    "    auc_score = roc_auc_score(y_true, predictions)\n",
    "    print(\"AUC:\"+ str(auc_score))\n",
    "    model_eval = model.evaluate(test_generator)\n",
    "    predictions = (model.predict(test_generator) > 0.5).astype(\"int32\")\n",
    "    predictions = predictions.reshape(1,-1)[0]\n",
    "    print(classification_report(y_true, predictions, target_names = ['Malignant (Class 0)','Benign (Class 1)']))"
   ]
  },
  {
   "cell_type": "markdown",
   "id": "funded-smoke",
   "metadata": {},
   "source": [
    "## AlexNet"
   ]
  },
  {
   "cell_type": "code",
   "execution_count": 18,
   "id": "traditional-report",
   "metadata": {},
   "outputs": [
    {
     "name": "stdout",
     "output_type": "stream",
     "text": [
      "AlexNet\n"
     ]
    },
    {
     "name": "stderr",
     "output_type": "stream",
     "text": [
      "C:\\Users\\Amin\\AppData\\Roaming\\Python\\Python312\\site-packages\\keras\\src\\saving\\saving_lib.py:757: UserWarning: Skipping variable loading for optimizer 'rmsprop', because it has 28 variables whereas the saved optimizer has 54 variables. \n",
      "  saveable.load_own_variables(weights_store.get(inner_path))\n",
      "C:\\Users\\Amin\\AppData\\Roaming\\Python\\Python312\\site-packages\\keras\\src\\trainers\\data_adapters\\py_dataset_adapter.py:121: UserWarning: Your `PyDataset` class should call `super().__init__(**kwargs)` in its constructor. `**kwargs` can include `workers`, `use_multiprocessing`, `max_queue_size`. Do not pass these arguments to `fit()`, as they will be ignored.\n",
      "  self._warn_if_super_not_called()\n"
     ]
    },
    {
     "name": "stdout",
     "output_type": "stream",
     "text": [
      "\u001b[1m754/754\u001b[0m \u001b[32m━━━━━━━━━━━━━━━━━━━━\u001b[0m\u001b[37m\u001b[0m \u001b[1m190s\u001b[0m 251ms/step\n",
      "Accuracy: 0.7029177718832891\n",
      "AUC:0.533338948787062\n"
     ]
    },
    {
     "name": "stderr",
     "output_type": "stream",
     "text": [
      "C:\\Users\\Amin\\AppData\\Roaming\\Python\\Python312\\site-packages\\keras\\src\\backend\\tensorflow\\nn.py:750: UserWarning: \"`binary_crossentropy` received `from_logits=True`, but the `output` argument was produced by a Sigmoid activation and thus does not represent logits. Was this intended?\n",
      "  output, from_logits = _get_logits(\n"
     ]
    },
    {
     "name": "stdout",
     "output_type": "stream",
     "text": [
      "\u001b[1m754/754\u001b[0m \u001b[32m━━━━━━━━━━━━━━━━━━━━\u001b[0m\u001b[37m\u001b[0m \u001b[1m181s\u001b[0m 239ms/step - binary_accuracy: 0.3433 - loss: 1.8185\n",
      "\u001b[1m754/754\u001b[0m \u001b[32m━━━━━━━━━━━━━━━━━━━━\u001b[0m\u001b[37m\u001b[0m \u001b[1m190s\u001b[0m 252ms/step\n",
      "                     precision    recall  f1-score   support\n",
      "\n",
      "Malignant (Class 0)       0.00      0.00      0.00       224\n",
      "   Benign (Class 1)       0.70      1.00      0.83       530\n",
      "\n",
      "           accuracy                           0.70       754\n",
      "          macro avg       0.35      0.50      0.41       754\n",
      "       weighted avg       0.49      0.70      0.58       754\n",
      "\n"
     ]
    },
    {
     "name": "stderr",
     "output_type": "stream",
     "text": [
      "C:\\ProgramData\\anaconda3\\Lib\\site-packages\\sklearn\\metrics\\_classification.py:1531: UndefinedMetricWarning: Precision is ill-defined and being set to 0.0 in labels with no predicted samples. Use `zero_division` parameter to control this behavior.\n",
      "  _warn_prf(average, modifier, f\"{metric.capitalize()} is\", len(result))\n",
      "C:\\ProgramData\\anaconda3\\Lib\\site-packages\\sklearn\\metrics\\_classification.py:1531: UndefinedMetricWarning: Precision is ill-defined and being set to 0.0 in labels with no predicted samples. Use `zero_division` parameter to control this behavior.\n",
      "  _warn_prf(average, modifier, f\"{metric.capitalize()} is\", len(result))\n",
      "C:\\ProgramData\\anaconda3\\Lib\\site-packages\\sklearn\\metrics\\_classification.py:1531: UndefinedMetricWarning: Precision is ill-defined and being set to 0.0 in labels with no predicted samples. Use `zero_division` parameter to control this behavior.\n",
      "  _warn_prf(average, modifier, f\"{metric.capitalize()} is\", len(result))\n"
     ]
    }
   ],
   "source": [
    "print(\"AlexNet\")\n",
    "test_model(model=keras.models.load_model(\"C:/Users/Amin/Downloads/alexnet_candidate_model.keras\"))"
   ]
  },
  {
   "cell_type": "markdown",
   "id": "sunset-morning",
   "metadata": {},
   "source": [
    "# LeNet"
   ]
  },
  {
   "cell_type": "code",
   "execution_count": null,
   "id": "exterior-envelope",
   "metadata": {},
   "outputs": [],
   "source": [
    "print(\"LeNet\")\n",
    "model=keras.models.load_model(\"/media/craig/Henry/ML_models/lenet/save_at_45.h5\")\n",
    "test_model(model=model)\n"
   ]
  },
  {
   "cell_type": "markdown",
   "id": "crazy-alfred",
   "metadata": {},
   "source": [
    "# VGG16"
   ]
  },
  {
   "cell_type": "code",
   "execution_count": null,
   "id": "permanent-electron",
   "metadata": {
    "scrolled": true
   },
   "outputs": [],
   "source": [
    "print(\"VGG16\")\n",
    "\n",
    "test_datagen = ImageDataGenerator(\n",
    "        preprocessing_function=tf.keras.applications.vgg16.preprocess_input\n",
    ")\n",
    "\n",
    "test_generator = test_datagen.flow_from_directory(\n",
    "        cmmd_dir+\"subset_two/PNG/TEST/\",\n",
    "        color_mode='rgb',\n",
    "        target_size=(224, 224),\n",
    "        batch_size=1,\n",
    "        shuffle=False,\n",
    "        class_mode='binary',\n",
    "        seed=11)\n",
    "\n",
    "test_model(model=keras.models.load_model(\"/media/craig/Ralph/ML_models/vgg16/save_at_75.h5\"))"
   ]
  },
  {
   "cell_type": "markdown",
   "id": "universal-embassy",
   "metadata": {},
   "source": [
    "# ResNet50"
   ]
  },
  {
   "cell_type": "code",
   "execution_count": null,
   "id": "authorized-buffer",
   "metadata": {},
   "outputs": [],
   "source": [
    "print(\"ResNet50\")\n",
    "\n",
    "test_datagen = ImageDataGenerator(\n",
    "        preprocessing_function=keras.applications.resnet50.preprocess_input\n",
    ")\n",
    "\n",
    "test_generator = test_datagen.flow_from_directory(\n",
    "        cmmd_dir+\"subset_two/PNG/TEST/\",\n",
    "        color_mode='rgb',\n",
    "        target_size=(224, 224),\n",
    "        batch_size=1,\n",
    "        shuffle=False,\n",
    "        class_mode='binary',\n",
    "        seed=11)\n",
    "\n",
    "test_model(model=keras.models.load_model(\"/media/craig/Ralph/ML_models/resnet50/save_at_6.h5\"))"
   ]
  },
  {
   "cell_type": "markdown",
   "id": "liquid-desire",
   "metadata": {},
   "source": [
    "# Xception"
   ]
  },
  {
   "cell_type": "code",
   "execution_count": null,
   "id": "increased-bleeding",
   "metadata": {},
   "outputs": [],
   "source": [
    "print(\"Xception\")\n",
    "\n",
    "test_datagen = ImageDataGenerator(\n",
    "        preprocessing_function=tf.keras.applications.xception.preprocess_input\n",
    ")\n",
    "\n",
    "test_generator = test_datagen.flow_from_directory(\n",
    "        cmmd_dir+\"subset_two/PNG/TEST/\",\n",
    "        color_mode='rgb',\n",
    "        target_size=(299, 299),\n",
    "        batch_size=1,\n",
    "        shuffle=False,\n",
    "        class_mode='binary',\n",
    "        seed=11)\n",
    "\n",
    "test_model(model=keras.models.load_model(\"/media/craig/Henry/ML_models/xception_aug/save_at_9.h5\"))"
   ]
  },
  {
   "cell_type": "code",
   "execution_count": null,
   "id": "objective-labor",
   "metadata": {},
   "outputs": [],
   "source": [
    "print(\"Xception Fine Tune with Aug\")\n",
    "\n",
    "test_datagen = ImageDataGenerator(\n",
    "        preprocessing_function=tf.keras.applications.xception.preprocess_input\n",
    ")\n",
    "\n",
    "test_generator = test_datagen.flow_from_directory(\n",
    "        cmmd_dir+\"subset_two/PNG/TEST/\",\n",
    "        color_mode='rgb',\n",
    "        target_size=(224, 224),\n",
    "        batch_size=1,\n",
    "        shuffle=False,\n",
    "        class_mode='binary',\n",
    "        seed=11)\n",
    "\n",
    "test_model(model=keras.models.load_model(\"/media/craig/Henry/ML_models/xception_ft_2/save_at_9.h5\"))"
   ]
  },
  {
   "cell_type": "markdown",
   "id": "greek-carnival",
   "metadata": {},
   "source": [
    "# Xception (Fine-Tuned) (but not based on the previous experiment)"
   ]
  },
  {
   "cell_type": "code",
   "execution_count": null,
   "id": "scheduled-modern",
   "metadata": {},
   "outputs": [],
   "source": [
    "print(\"Xception (Fine Tune)\")\n",
    "\n",
    "test_datagen = ImageDataGenerator(\n",
    "        preprocessing_function=tf.keras.applications.xception.preprocess_input\n",
    ")\n",
    "\n",
    "test_generator = test_datagen.flow_from_directory(\n",
    "        cmmd_dir+\"subset_two/PNG/TEST/\",\n",
    "        color_mode='rgb',\n",
    "        target_size=(224, 224),\n",
    "        batch_size=1,\n",
    "        shuffle=False,\n",
    "        class_mode='binary',\n",
    "        seed=11)\n",
    "\n",
    "test_model(model=keras.models.load_model(\"/media/craig/Henry/ML_models/xception_ft_1/save_at_46.h5\"))"
   ]
  },
  {
   "cell_type": "code",
   "execution_count": null,
   "id": "intellectual-vault",
   "metadata": {},
   "outputs": [],
   "source": [
    "print(\"Xception (Fine Tune)\")\n",
    "\n",
    "test_datagen = ImageDataGenerator(\n",
    "        preprocessing_function=tf.keras.applications.xception.preprocess_input\n",
    ")\n",
    "\n",
    "test_generator = test_datagen.flow_from_directory(\n",
    "        cmmd_dir+\"subset_two/PNG/TEST/\",\n",
    "        color_mode='rgb',\n",
    "        target_size=(299, 299),\n",
    "        batch_size=1,\n",
    "        shuffle=False,\n",
    "        class_mode='binary',\n",
    "        seed=11)\n",
    "\n",
    "test_model(model=keras.models.load_model(\"/media/craig/Henry/ML_models/xception_ft_1/save_at_46.h5\"))"
   ]
  }
 ],
 "metadata": {
  "kernelspec": {
   "display_name": "Python 3 (ipykernel)",
   "language": "python",
   "name": "python3"
  },
  "language_info": {
   "codemirror_mode": {
    "name": "ipython",
    "version": 3
   },
   "file_extension": ".py",
   "mimetype": "text/x-python",
   "name": "python",
   "nbconvert_exporter": "python",
   "pygments_lexer": "ipython3",
   "version": "3.12.3"
  }
 },
 "nbformat": 4,
 "nbformat_minor": 5
}
